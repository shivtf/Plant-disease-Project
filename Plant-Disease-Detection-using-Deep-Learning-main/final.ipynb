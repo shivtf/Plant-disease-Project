{
 "cells": [
  {
   "cell_type": "code",
   "execution_count": 1,
   "metadata": {},
   "outputs": [],
   "source": [
    "import torch\n",
    "import torch.optim as optim\n",
    "import time\n",
    "import matplotlib.pyplot as plt\n",
    "import seaborn as sns\n",
    "from sklearn.metrics import confusion_matrix\n",
    "from torch.autograd import Variable\n",
    "from torch.utils.data import DataLoader, random_split\n",
    "from torchvision import datasets, transforms, models\n",
    "from torch.utils import model_zoo"
   ]
  },
  {
   "cell_type": "code",
   "execution_count": 2,
   "metadata": {},
   "outputs": [],
   "source": [
    "def load_defined_model(name, num_classes, device='cuda'):\n",
    "    model = models.__dict__[name](pretrained=False, num_classes=num_classes)\n",
    "    \n",
    "    if name == 'resnet34':\n",
    "        model.fc = torch.nn.Linear(model.fc.in_features, num_classes)\n",
    "\n",
    "    model_urls = {\n",
    "        'resnet34': 'https://download.pytorch.org/models/resnet34-333f7ec4.pth',\n",
    "    }\n",
    "    \n",
    "    if name in model_urls:\n",
    "        pretrained_state = model_zoo.load_url(model_urls[name])\n",
    "    else:\n",
    "        raise ValueError(f\"No URL found for model '{name}'\")\n",
    "    \n",
    "    if name == 'resnet34':\n",
    "        pretrained_state.pop('fc.weight', None)\n",
    "        pretrained_state.pop('fc.bias', None)\n",
    "    \n",
    "    diff = [s for s in diff_states(model.state_dict(), pretrained_state)]\n",
    "    if diff:\n",
    "        print(f\"Replacing the following state from initialized {name}: {[d[0] for d in diff]}\")\n",
    "\n",
    "    model.load_state_dict(pretrained_state, strict=False)\n",
    "    \n",
    "    model.to(device)\n",
    "    return model, diff\n"
   ]
  },
  {
   "cell_type": "code",
   "execution_count": 3,
   "metadata": {},
   "outputs": [],
   "source": [
    "def diff_states(dict_standard, dict_subset):\n",
    "    names1, names2 = list(dict_standard.keys()), list(dict_subset.keys())\n",
    "\n",
    "    not_in_1 = [n for n in names1 if n not in names2]\n",
    "    not_in_2 = [n for n in names2 if n not in names1]\n",
    "\n",
    "    if not_in_1:\n",
    "        print(f\"Parameters in standard dict but not in subset dict: {not_in_1}\")\n",
    "    if not_in_2:\n",
    "        print(f\"Parameters in subset dict but not in standard dict: {not_in_2}\")\n",
    "\n",
    "    for name in set(names1).intersection(names2):\n",
    "        v1, v2 = dict_standard[name], dict_subset[name]\n",
    "        if v1.size() != v2.size():\n",
    "            yield (name, v1)\n"
   ]
  },
  {
   "cell_type": "code",
   "execution_count": 4,
   "metadata": {},
   "outputs": [],
   "source": [
    "def load_data(resize, val_split=0.2):\n",
    "    data_transforms = transforms.Compose([\n",
    "        transforms.RandomResizedCrop(resize),\n",
    "        transforms.RandomHorizontalFlip(),\n",
    "        transforms.ToTensor(),\n",
    "        transforms.Normalize([0.485, 0.456, 0.406], [0.229, 0.224, 0.225])\n",
    "    ])\n",
    "\n",
    "    data_dir = './plantvillage dataset/color'\n",
    "    full_dataset = datasets.ImageFolder(data_dir, transform=data_transforms)\n",
    "\n",
    "    val_size = int(len(full_dataset) * val_split)\n",
    "    train_size = len(full_dataset) - val_size\n",
    "    train_dataset, val_dataset = random_split(full_dataset, [train_size, val_size])\n",
    "\n",
    "    trainloader = DataLoader(train_dataset, batch_size=64, shuffle=True, num_workers=4)\n",
    "    valloader = DataLoader(val_dataset, batch_size=64, shuffle=False, num_workers=4)\n",
    "\n",
    "    return trainloader, valloader\n",
    "\n"
   ]
  },
  {
   "cell_type": "code",
   "execution_count": 5,
   "metadata": {},
   "outputs": [],
   "source": [
    "def train(net, trainloader, param_list=None, epochs=5, use_gpu=True):\n",
    "    net = net.train()\n",
    "\n",
    "    device = torch.device(\"cuda\" if use_gpu and torch.cuda.is_available() else \"cpu\")\n",
    "    net.to(device)\n",
    "\n",
    "    if param_list:\n",
    "        params = [p for n, p in net.named_parameters() if n in param_list and p.requires_grad]\n",
    "        if not params:\n",
    "            raise ValueError(\"No valid parameters found in param_list for optimization.\")\n",
    "    else:\n",
    "        params = [p for p in net.parameters() if p.requires_grad]\n",
    "\n",
    "    if not params:\n",
    "        raise ValueError(\"optimizer got an empty parameter list: no parameters to optimize.\")\n",
    "\n",
    "    optimizer = optim.SGD(params, lr=0.001, momentum=0.9)\n",
    "\n",
    "    losses = []\n",
    "    for epoch in range(epochs):\n",
    "        running_loss = 0.0\n",
    "        for i, data in enumerate(trainloader, 0):\n",
    "            inputs, labels = data\n",
    "            inputs, labels = inputs.to(device), labels.to(device)  \n",
    "\n",
    "            optimizer.zero_grad()\n",
    "            outputs = net(inputs)\n",
    "            loss = torch.nn.functional.cross_entropy(outputs, labels)\n",
    "            loss.backward()\n",
    "            optimizer.step()\n",
    "\n",
    "            running_loss += loss.item()\n",
    "            if i % 100 == 99:\n",
    "                print(f\"[Epoch {epoch + 1}, Batch {i + 1}] loss: {running_loss / 100:.3f}\")\n",
    "                running_loss = 0.0\n",
    "        losses.append(running_loss / len(trainloader))\n",
    "\n",
    "    print(\"Finished Training\")\n",
    "    return losses\n"
   ]
  },
  {
   "cell_type": "code",
   "execution_count": 6,
   "metadata": {},
   "outputs": [],
   "source": [
    "def train_stats(m, trainloader, param_list=None):\n",
    "    stats = {}\n",
    "    losses = train(m, trainloader, param_list=param_list)\n",
    "    stats['training_loss'] = losses[-1] if len(losses) else float('nan')\n",
    "    stats['training_losses'] = losses\n",
    "    \n",
    "    return stats"
   ]
  },
  {
   "cell_type": "code",
   "execution_count": 7,
   "metadata": {},
   "outputs": [],
   "source": [
    "def evaluate_stats(net, testloader, use_gpu=True):\n",
    "    stats = {}\n",
    "    correct = 0\n",
    "    total = 0\n",
    "    y_true = []\n",
    "    y_pred = []\n",
    "    \n",
    "    device = torch.device(\"cuda\" if use_gpu and torch.cuda.is_available() else \"cpu\")\n",
    "    net.to(device)\n",
    "\n",
    "    before = time.time()\n",
    "    for i, data in enumerate(testloader, 0):\n",
    "        images, labels = data\n",
    "\n",
    "        if use_gpu:\n",
    "            images, labels = images.cuda(), labels.cuda()\n",
    "\n",
    "        outputs = net(Variable(images))\n",
    "        _, predicted = torch.max(outputs.data, 1)\n",
    "        total += labels.size(0)\n",
    "        correct += (predicted == labels).sum().item()\n",
    "\n",
    "        y_true.extend(labels.cpu().numpy())\n",
    "        y_pred.extend(predicted.cpu().numpy())\n",
    "\n",
    "    accuracy = correct / total\n",
    "    stats['accuracy'] = accuracy\n",
    "    stats['eval_time'] = time.time() - before\n",
    "    print(f'Accuracy on test images: {accuracy:.2f}%')\n",
    "    \n",
    "    return stats, y_true, y_pred\n"
   ]
  },
  {
   "cell_type": "code",
   "execution_count": 8,
   "metadata": {},
   "outputs": [],
   "source": [
    "def plot_metrics(train_losses, train_accuracies, test_losses, test_accuracies, y_true, y_pred, class_names):\n",
    "    epochs = range(1, len(train_losses) + 1)\n",
    "    plt.figure(figsize=(16, 5))\n",
    "\n",
    "    plt.subplot(1, 2, 1)\n",
    "    plt.plot(epochs, train_losses, label='Train Loss')\n",
    "    plt.plot(epochs, test_losses, label='Test Loss')\n",
    "    plt.title('Loss per Epoch')\n",
    "    plt.xlabel('Epoch')\n",
    "    plt.ylabel('Loss')\n",
    "    plt.legend()\n",
    "\n",
    "    plt.subplot(1, 2, 2)\n",
    "    plt.plot(epochs, train_accuracies, label='Train Accuracy')\n",
    "    plt.plot(epochs, test_accuracies, label='Test Accuracy')\n",
    "    plt.title('Accuracy per Epoch')\n",
    "    plt.xlabel('Epoch')\n",
    "    plt.ylabel('Accuracy')\n",
    "    plt.legend()\n",
    "    \n",
    "    plt.tight_layout()\n",
    "    plt.show()\n",
    "\n",
    "    cm = confusion_matrix(y_true, y_pred)\n",
    "    plt.figure(figsize=(8, 6))\n",
    "    sns.heatmap(cm, annot=True, fmt='d', cmap='Blues', xticklabels=class_names, yticklabels=class_names)\n",
    "    plt.title('Confusion Matrix')\n",
    "    plt.xlabel('Predicted')\n",
    "    plt.ylabel('True')\n",
    "    plt.show()\n"
   ]
  },
  {
   "cell_type": "code",
   "execution_count": null,
   "metadata": {},
   "outputs": [],
   "source": [
    "import torch\n",
    "from tqdm import tqdm\n",
    "import pandas as pd\n",
    "import torchvision\n",
    "from torch.utils.data import DataLoader, random_split\n",
    "from torchvision import datasets, transforms\n",
    "\n",
    "def load_defined_model(model_name, num_classes, device):\n",
    "    if model_name == 'resnet34':\n",
    "        model = torchvision.models.resnet34(pretrained=True)\n",
    "        model.fc = torch.nn.Linear(model.fc.in_features, num_classes)\n",
    "    else:\n",
    "        raise NotImplementedError(\"Model not implemented\")\n",
    "    model = model.to(device)\n",
    "    return model, None\n",
    "\n",
    "def load_data(resize, val_split=0.2):\n",
    "    data_transforms = transforms.Compose([\n",
    "        transforms.RandomResizedCrop(resize),\n",
    "        transforms.RandomHorizontalFlip(),\n",
    "        transforms.ToTensor(),\n",
    "        transforms.Normalize([0.485, 0.456, 0.406], [0.229, 0.224, 0.225])\n",
    "    ])\n",
    "    data_dir = './plantvillage dataset/color'\n",
    "    full_dataset = datasets.ImageFolder(data_dir, transform=data_transforms)\n",
    "    val_size = int(len(full_dataset) * val_split)\n",
    "    train_size = len(full_dataset) - val_size\n",
    "    train_dataset, val_dataset = random_split(full_dataset, [train_size, val_size])\n",
    "    trainloader = DataLoader(train_dataset, batch_size=64, shuffle=True, num_workers=4)\n",
    "    valloader = DataLoader(val_dataset, batch_size=64, shuffle=False, num_workers=4)\n",
    "    return trainloader, valloader\n",
    "\n",
    "def train_step(model, inputs, labels, device, criterion, optimizer):\n",
    "    model.train()\n",
    "    inputs, labels = inputs.to(device), labels.to(device)\n",
    "    optimizer.zero_grad()\n",
    "    outputs = model(inputs)\n",
    "    loss = criterion(outputs, labels)\n",
    "    loss.backward()\n",
    "    optimizer.step()\n",
    "    return loss.item()\n",
    "\n",
    "def evaluate_stats(model, dataloader, device):\n",
    "    model.eval()\n",
    "    true_labels, pred_labels = [], []\n",
    "    correct = 0\n",
    "    total = 0\n",
    "    with torch.no_grad():\n",
    "        for inputs, labels in dataloader:\n",
    "            inputs, labels = inputs.to(device), labels.to(device)\n",
    "            outputs = model(inputs)\n",
    "            _, predicted = torch.max(outputs.data, 1)\n",
    "            total += labels.size(0)\n",
    "            correct += (predicted == labels).sum().item()\n",
    "            true_labels.extend(labels.cpu().numpy())\n",
    "            pred_labels.extend(predicted.cpu().numpy())\n",
    "    accuracy = 100 * correct / total\n",
    "    return {'accuracy': accuracy}, true_labels, pred_labels\n",
    "\n",
    "def main(model_name='resnet34', num_classes=39, num_epochs=10, resize=224, batch_size=64, use_gpu=True):\n",
    "    device = torch.device(\"cuda\" if torch.cuda.is_available() and use_gpu else \"cpu\")\n",
    "    print(f\"Using device: {device}\")\n",
    "    print(f\"Loading {model_name} model with {num_classes} classes\")\n",
    "    model_pretrained, _ = load_defined_model(model_name, num_classes, device=device)\n",
    "    print(f\"Resizing input images to {resize}\")\n",
    "    trainloader, testloader = load_data(resize)\n",
    "    criterion = torch.nn.CrossEntropyLoss()\n",
    "\n",
    "    optimizer = torch.optim.SGD(model_pretrained.parameters(), lr=0.01, momentum=0.9)\n",
    "\n",
    "    epoch_data = []\n",
    "\n",
    "    for epoch in range(num_epochs):\n",
    "        model_pretrained.train()\n",
    "        train_loss = 0.0\n",
    "\n",
    "        pbar = tqdm(trainloader, desc=f\"Epoch {epoch + 1}/{num_epochs}\", ncols=100, dynamic_ncols=True)\n",
    "\n",
    "        for step, (inputs, labels) in enumerate(pbar, start=1):\n",
    "            loss = train_step(model_pretrained, inputs, labels, device, criterion, optimizer)\n",
    "            train_loss += loss\n",
    "\n",
    "            pbar.set_postfix({\"train_loss\": train_loss / step}, refresh=True)\n",
    "\n",
    "        print(\"Evaluating...\")\n",
    "        stats, true_labels, pred_labels = evaluate_stats(model_pretrained, testloader, device=device)\n",
    "        accuracy = stats['accuracy']\n",
    "        epoch_data.append({\n",
    "            'epoch': epoch + 1,\n",
    "            'train_loss': train_loss / len(trainloader),\n",
    "            'val_accuracy': accuracy,\n",
    "        })\n",
    "        \n",
    "        print(f\"Epoch {epoch + 1}/{num_epochs} - Train Loss: {train_loss / len(trainloader):.4f}, Val Accuracy: {accuracy:.2f}%\")\n",
    "\n",
    "    df = pd.DataFrame(epoch_data)\n",
    "    df.to_csv(\"training_metrics.csv\", index=False)\n",
    "    print(\"Training metrics saved to 'training_metrics.csv'\")\n",
    "\n",
    "    model_save_path = \"trained_model.pth\"\n",
    "    torch.save(model_pretrained.state_dict(), model_save_path)\n",
    "    print(f\"Trained model saved to '{model_save_path}'\")\n",
    "\n",
    "    return model_pretrained"
   ]
  },
  {
   "cell_type": "code",
   "execution_count": null,
   "metadata": {},
   "outputs": [
    {
     "name": "stdout",
     "output_type": "stream",
     "text": [
      "Using device: cuda\n",
      "Loading resnet34 model with 38 classes\n"
     ]
    },
    {
     "name": "stderr",
     "output_type": "stream",
     "text": [
      "C:\\Users\\Akshat Nautiyal\\AppData\\Roaming\\Python\\Python312\\site-packages\\torchvision\\models\\_utils.py:208: UserWarning: The parameter 'pretrained' is deprecated since 0.13 and may be removed in the future, please use 'weights' instead.\n",
      "  warnings.warn(\n",
      "C:\\Users\\Akshat Nautiyal\\AppData\\Roaming\\Python\\Python312\\site-packages\\torchvision\\models\\_utils.py:223: UserWarning: Arguments other than a weight enum or `None` for 'weights' are deprecated since 0.13 and may be removed in the future. The current behavior is equivalent to passing `weights=ResNet34_Weights.IMAGENET1K_V1`. You can also use `weights=ResNet34_Weights.DEFAULT` to get the most up-to-date weights.\n",
      "  warnings.warn(msg)\n"
     ]
    },
    {
     "name": "stdout",
     "output_type": "stream",
     "text": [
      "Resizing input images to 224\n"
     ]
    },
    {
     "name": "stderr",
     "output_type": "stream",
     "text": [
      "Epoch 1/30: 100%|██████████| 679/679 [04:52<00:00,  2.32it/s, train_loss=0.357]\n"
     ]
    },
    {
     "name": "stdout",
     "output_type": "stream",
     "text": [
      "Evaluating...\n",
      "Epoch 1/30 - Train Loss: 0.3570, Val Accuracy: 95.14%\n"
     ]
    },
    {
     "name": "stderr",
     "output_type": "stream",
     "text": [
      "Epoch 2/30: 100%|██████████| 679/679 [05:06<00:00,  2.22it/s, train_loss=0.132] \n"
     ]
    },
    {
     "name": "stdout",
     "output_type": "stream",
     "text": [
      "Evaluating...\n",
      "Epoch 2/30 - Train Loss: 0.1322, Val Accuracy: 95.79%\n"
     ]
    },
    {
     "name": "stderr",
     "output_type": "stream",
     "text": [
      "Epoch 3/30: 100%|██████████| 679/679 [05:11<00:00,  2.18it/s, train_loss=0.102]\n"
     ]
    },
    {
     "name": "stdout",
     "output_type": "stream",
     "text": [
      "Evaluating...\n",
      "Epoch 3/30 - Train Loss: 0.1023, Val Accuracy: 97.04%\n"
     ]
    },
    {
     "name": "stderr",
     "output_type": "stream",
     "text": [
      "Epoch 4/30: 100%|██████████| 679/679 [04:57<00:00,  2.28it/s, train_loss=0.0858]\n"
     ]
    },
    {
     "name": "stdout",
     "output_type": "stream",
     "text": [
      "Evaluating...\n",
      "Epoch 4/30 - Train Loss: 0.0858, Val Accuracy: 97.37%\n"
     ]
    },
    {
     "name": "stderr",
     "output_type": "stream",
     "text": [
      "Epoch 5/30: 100%|██████████| 679/679 [04:47<00:00,  2.36it/s, train_loss=0.0749]\n"
     ]
    },
    {
     "name": "stdout",
     "output_type": "stream",
     "text": [
      "Evaluating...\n",
      "Epoch 5/30 - Train Loss: 0.0749, Val Accuracy: 97.29%\n"
     ]
    },
    {
     "name": "stderr",
     "output_type": "stream",
     "text": [
      "Epoch 6/30: 100%|██████████| 679/679 [04:45<00:00,  2.38it/s, train_loss=0.0628]\n"
     ]
    },
    {
     "name": "stdout",
     "output_type": "stream",
     "text": [
      "Evaluating...\n",
      "Epoch 6/30 - Train Loss: 0.0628, Val Accuracy: 97.96%\n"
     ]
    },
    {
     "name": "stderr",
     "output_type": "stream",
     "text": [
      "Epoch 7/30: 100%|██████████| 679/679 [04:45<00:00,  2.38it/s, train_loss=0.0591]\n"
     ]
    },
    {
     "name": "stdout",
     "output_type": "stream",
     "text": [
      "Evaluating...\n",
      "Epoch 7/30 - Train Loss: 0.0591, Val Accuracy: 97.91%\n"
     ]
    },
    {
     "name": "stderr",
     "output_type": "stream",
     "text": [
      "Epoch 8/30: 100%|██████████| 679/679 [04:46<00:00,  2.37it/s, train_loss=0.0601]\n"
     ]
    },
    {
     "name": "stdout",
     "output_type": "stream",
     "text": [
      "Evaluating...\n",
      "Epoch 8/30 - Train Loss: 0.0601, Val Accuracy: 98.45%\n"
     ]
    },
    {
     "name": "stderr",
     "output_type": "stream",
     "text": [
      "Epoch 9/30: 100%|██████████| 679/679 [04:45<00:00,  2.38it/s, train_loss=0.0549]\n"
     ]
    },
    {
     "name": "stdout",
     "output_type": "stream",
     "text": [
      "Evaluating...\n",
      "Epoch 9/30 - Train Loss: 0.0549, Val Accuracy: 98.30%\n"
     ]
    },
    {
     "name": "stderr",
     "output_type": "stream",
     "text": [
      "Epoch 10/30: 100%|██████████| 679/679 [04:44<00:00,  2.39it/s, train_loss=0.0478] \n"
     ]
    },
    {
     "name": "stdout",
     "output_type": "stream",
     "text": [
      "Evaluating...\n",
      "Epoch 10/30 - Train Loss: 0.0478, Val Accuracy: 98.47%\n"
     ]
    },
    {
     "name": "stderr",
     "output_type": "stream",
     "text": [
      "Epoch 11/30: 100%|██████████| 679/679 [04:45<00:00,  2.38it/s, train_loss=0.0514]\n"
     ]
    },
    {
     "name": "stdout",
     "output_type": "stream",
     "text": [
      "Evaluating...\n",
      "Epoch 11/30 - Train Loss: 0.0514, Val Accuracy: 98.18%\n"
     ]
    },
    {
     "name": "stderr",
     "output_type": "stream",
     "text": [
      "Epoch 12/30: 100%|██████████| 679/679 [04:45<00:00,  2.37it/s, train_loss=0.0443]\n"
     ]
    },
    {
     "name": "stdout",
     "output_type": "stream",
     "text": [
      "Evaluating...\n",
      "Epoch 12/30 - Train Loss: 0.0443, Val Accuracy: 98.31%\n"
     ]
    },
    {
     "name": "stderr",
     "output_type": "stream",
     "text": [
      "Epoch 13/30: 100%|██████████| 679/679 [04:45<00:00,  2.38it/s, train_loss=0.0446]\n"
     ]
    },
    {
     "name": "stdout",
     "output_type": "stream",
     "text": [
      "Evaluating...\n",
      "Epoch 13/30 - Train Loss: 0.0446, Val Accuracy: 98.29%\n"
     ]
    },
    {
     "name": "stderr",
     "output_type": "stream",
     "text": [
      "Epoch 14/30: 100%|██████████| 679/679 [04:45<00:00,  2.38it/s, train_loss=0.0405]\n"
     ]
    },
    {
     "name": "stdout",
     "output_type": "stream",
     "text": [
      "Evaluating...\n",
      "Epoch 14/30 - Train Loss: 0.0405, Val Accuracy: 98.64%\n"
     ]
    },
    {
     "name": "stderr",
     "output_type": "stream",
     "text": [
      "Epoch 15/30: 100%|██████████| 679/679 [04:45<00:00,  2.38it/s, train_loss=0.0393]\n"
     ]
    },
    {
     "name": "stdout",
     "output_type": "stream",
     "text": [
      "Evaluating...\n",
      "Epoch 15/30 - Train Loss: 0.0393, Val Accuracy: 98.71%\n"
     ]
    },
    {
     "name": "stderr",
     "output_type": "stream",
     "text": [
      "Epoch 16/30: 100%|██████████| 679/679 [04:44<00:00,  2.38it/s, train_loss=0.0374]\n"
     ]
    },
    {
     "name": "stdout",
     "output_type": "stream",
     "text": [
      "Evaluating...\n",
      "Epoch 16/30 - Train Loss: 0.0374, Val Accuracy: 98.55%\n"
     ]
    },
    {
     "name": "stderr",
     "output_type": "stream",
     "text": [
      "Epoch 17/30: 100%|██████████| 679/679 [04:45<00:00,  2.38it/s, train_loss=0.0402] \n"
     ]
    },
    {
     "name": "stdout",
     "output_type": "stream",
     "text": [
      "Evaluating...\n",
      "Epoch 17/30 - Train Loss: 0.0402, Val Accuracy: 98.55%\n"
     ]
    },
    {
     "name": "stderr",
     "output_type": "stream",
     "text": [
      "Epoch 18/30: 100%|██████████| 679/679 [04:45<00:00,  2.38it/s, train_loss=0.0381]\n"
     ]
    },
    {
     "name": "stdout",
     "output_type": "stream",
     "text": [
      "Evaluating...\n",
      "Epoch 18/30 - Train Loss: 0.0381, Val Accuracy: 98.83%\n"
     ]
    },
    {
     "name": "stderr",
     "output_type": "stream",
     "text": [
      "Epoch 19/30: 100%|██████████| 679/679 [04:45<00:00,  2.38it/s, train_loss=0.035]  \n"
     ]
    },
    {
     "name": "stdout",
     "output_type": "stream",
     "text": [
      "Evaluating...\n",
      "Epoch 19/30 - Train Loss: 0.0350, Val Accuracy: 98.81%\n"
     ]
    },
    {
     "name": "stderr",
     "output_type": "stream",
     "text": [
      "Epoch 20/30: 100%|██████████| 679/679 [04:45<00:00,  2.38it/s, train_loss=0.0333]\n"
     ]
    },
    {
     "name": "stdout",
     "output_type": "stream",
     "text": [
      "Evaluating...\n",
      "Epoch 20/30 - Train Loss: 0.0333, Val Accuracy: 98.80%\n"
     ]
    },
    {
     "name": "stderr",
     "output_type": "stream",
     "text": [
      "Epoch 21/30: 100%|██████████| 679/679 [04:44<00:00,  2.38it/s, train_loss=0.032] \n"
     ]
    },
    {
     "name": "stdout",
     "output_type": "stream",
     "text": [
      "Evaluating...\n",
      "Epoch 21/30 - Train Loss: 0.0320, Val Accuracy: 98.92%\n"
     ]
    },
    {
     "name": "stderr",
     "output_type": "stream",
     "text": [
      "Epoch 22/30: 100%|██████████| 679/679 [04:45<00:00,  2.38it/s, train_loss=0.0314]\n"
     ]
    },
    {
     "name": "stdout",
     "output_type": "stream",
     "text": [
      "Evaluating...\n",
      "Epoch 22/30 - Train Loss: 0.0314, Val Accuracy: 98.95%\n"
     ]
    },
    {
     "name": "stderr",
     "output_type": "stream",
     "text": [
      "Epoch 23/30: 100%|██████████| 679/679 [04:45<00:00,  2.38it/s, train_loss=0.033] \n"
     ]
    },
    {
     "name": "stdout",
     "output_type": "stream",
     "text": [
      "Evaluating...\n",
      "Epoch 23/30 - Train Loss: 0.0330, Val Accuracy: 98.63%\n"
     ]
    },
    {
     "name": "stderr",
     "output_type": "stream",
     "text": [
      "Epoch 24/30: 100%|██████████| 679/679 [04:46<00:00,  2.37it/s, train_loss=0.0283]\n"
     ]
    },
    {
     "name": "stdout",
     "output_type": "stream",
     "text": [
      "Evaluating...\n",
      "Epoch 24/30 - Train Loss: 0.0283, Val Accuracy: 99.00%\n"
     ]
    },
    {
     "name": "stderr",
     "output_type": "stream",
     "text": [
      "Epoch 25/30: 100%|██████████| 679/679 [04:45<00:00,  2.38it/s, train_loss=0.0308]\n"
     ]
    },
    {
     "name": "stdout",
     "output_type": "stream",
     "text": [
      "Evaluating...\n",
      "Epoch 25/30 - Train Loss: 0.0308, Val Accuracy: 98.89%\n"
     ]
    },
    {
     "name": "stderr",
     "output_type": "stream",
     "text": [
      "Epoch 26/30: 100%|██████████| 679/679 [04:45<00:00,  2.38it/s, train_loss=0.0288] \n"
     ]
    },
    {
     "name": "stdout",
     "output_type": "stream",
     "text": [
      "Evaluating...\n",
      "Epoch 26/30 - Train Loss: 0.0288, Val Accuracy: 98.87%\n"
     ]
    },
    {
     "name": "stderr",
     "output_type": "stream",
     "text": [
      "Epoch 27/30: 100%|██████████| 679/679 [04:45<00:00,  2.38it/s, train_loss=0.0305]\n"
     ]
    },
    {
     "name": "stdout",
     "output_type": "stream",
     "text": [
      "Evaluating...\n",
      "Epoch 27/30 - Train Loss: 0.0305, Val Accuracy: 99.07%\n"
     ]
    },
    {
     "name": "stderr",
     "output_type": "stream",
     "text": [
      "Epoch 28/30: 100%|██████████| 679/679 [04:45<00:00,  2.38it/s, train_loss=0.0264]\n"
     ]
    },
    {
     "name": "stdout",
     "output_type": "stream",
     "text": [
      "Evaluating...\n",
      "Epoch 28/30 - Train Loss: 0.0264, Val Accuracy: 99.04%\n"
     ]
    },
    {
     "name": "stderr",
     "output_type": "stream",
     "text": [
      "Epoch 29/30: 100%|██████████| 679/679 [04:45<00:00,  2.38it/s, train_loss=0.0252] \n"
     ]
    },
    {
     "name": "stdout",
     "output_type": "stream",
     "text": [
      "Evaluating...\n",
      "Epoch 29/30 - Train Loss: 0.0252, Val Accuracy: 99.15%\n"
     ]
    },
    {
     "name": "stderr",
     "output_type": "stream",
     "text": [
      "Epoch 30/30: 100%|██████████| 679/679 [04:45<00:00,  2.38it/s, train_loss=0.0261]\n"
     ]
    },
    {
     "name": "stdout",
     "output_type": "stream",
     "text": [
      "Evaluating...\n",
      "Epoch 30/30 - Train Loss: 0.0261, Val Accuracy: 99.01%\n",
      "Training metrics saved to 'training_metrics.csv'\n",
      "Trained model saved to 'trained_model.pth'\n"
     ]
    },
    {
     "data": {
      "text/plain": [
       "ResNet(\n",
       "  (conv1): Conv2d(3, 64, kernel_size=(7, 7), stride=(2, 2), padding=(3, 3), bias=False)\n",
       "  (bn1): BatchNorm2d(64, eps=1e-05, momentum=0.1, affine=True, track_running_stats=True)\n",
       "  (relu): ReLU(inplace=True)\n",
       "  (maxpool): MaxPool2d(kernel_size=3, stride=2, padding=1, dilation=1, ceil_mode=False)\n",
       "  (layer1): Sequential(\n",
       "    (0): BasicBlock(\n",
       "      (conv1): Conv2d(64, 64, kernel_size=(3, 3), stride=(1, 1), padding=(1, 1), bias=False)\n",
       "      (bn1): BatchNorm2d(64, eps=1e-05, momentum=0.1, affine=True, track_running_stats=True)\n",
       "      (relu): ReLU(inplace=True)\n",
       "      (conv2): Conv2d(64, 64, kernel_size=(3, 3), stride=(1, 1), padding=(1, 1), bias=False)\n",
       "      (bn2): BatchNorm2d(64, eps=1e-05, momentum=0.1, affine=True, track_running_stats=True)\n",
       "    )\n",
       "    (1): BasicBlock(\n",
       "      (conv1): Conv2d(64, 64, kernel_size=(3, 3), stride=(1, 1), padding=(1, 1), bias=False)\n",
       "      (bn1): BatchNorm2d(64, eps=1e-05, momentum=0.1, affine=True, track_running_stats=True)\n",
       "      (relu): ReLU(inplace=True)\n",
       "      (conv2): Conv2d(64, 64, kernel_size=(3, 3), stride=(1, 1), padding=(1, 1), bias=False)\n",
       "      (bn2): BatchNorm2d(64, eps=1e-05, momentum=0.1, affine=True, track_running_stats=True)\n",
       "    )\n",
       "    (2): BasicBlock(\n",
       "      (conv1): Conv2d(64, 64, kernel_size=(3, 3), stride=(1, 1), padding=(1, 1), bias=False)\n",
       "      (bn1): BatchNorm2d(64, eps=1e-05, momentum=0.1, affine=True, track_running_stats=True)\n",
       "      (relu): ReLU(inplace=True)\n",
       "      (conv2): Conv2d(64, 64, kernel_size=(3, 3), stride=(1, 1), padding=(1, 1), bias=False)\n",
       "      (bn2): BatchNorm2d(64, eps=1e-05, momentum=0.1, affine=True, track_running_stats=True)\n",
       "    )\n",
       "  )\n",
       "  (layer2): Sequential(\n",
       "    (0): BasicBlock(\n",
       "      (conv1): Conv2d(64, 128, kernel_size=(3, 3), stride=(2, 2), padding=(1, 1), bias=False)\n",
       "      (bn1): BatchNorm2d(128, eps=1e-05, momentum=0.1, affine=True, track_running_stats=True)\n",
       "      (relu): ReLU(inplace=True)\n",
       "      (conv2): Conv2d(128, 128, kernel_size=(3, 3), stride=(1, 1), padding=(1, 1), bias=False)\n",
       "      (bn2): BatchNorm2d(128, eps=1e-05, momentum=0.1, affine=True, track_running_stats=True)\n",
       "      (downsample): Sequential(\n",
       "        (0): Conv2d(64, 128, kernel_size=(1, 1), stride=(2, 2), bias=False)\n",
       "        (1): BatchNorm2d(128, eps=1e-05, momentum=0.1, affine=True, track_running_stats=True)\n",
       "      )\n",
       "    )\n",
       "    (1): BasicBlock(\n",
       "      (conv1): Conv2d(128, 128, kernel_size=(3, 3), stride=(1, 1), padding=(1, 1), bias=False)\n",
       "      (bn1): BatchNorm2d(128, eps=1e-05, momentum=0.1, affine=True, track_running_stats=True)\n",
       "      (relu): ReLU(inplace=True)\n",
       "      (conv2): Conv2d(128, 128, kernel_size=(3, 3), stride=(1, 1), padding=(1, 1), bias=False)\n",
       "      (bn2): BatchNorm2d(128, eps=1e-05, momentum=0.1, affine=True, track_running_stats=True)\n",
       "    )\n",
       "    (2): BasicBlock(\n",
       "      (conv1): Conv2d(128, 128, kernel_size=(3, 3), stride=(1, 1), padding=(1, 1), bias=False)\n",
       "      (bn1): BatchNorm2d(128, eps=1e-05, momentum=0.1, affine=True, track_running_stats=True)\n",
       "      (relu): ReLU(inplace=True)\n",
       "      (conv2): Conv2d(128, 128, kernel_size=(3, 3), stride=(1, 1), padding=(1, 1), bias=False)\n",
       "      (bn2): BatchNorm2d(128, eps=1e-05, momentum=0.1, affine=True, track_running_stats=True)\n",
       "    )\n",
       "    (3): BasicBlock(\n",
       "      (conv1): Conv2d(128, 128, kernel_size=(3, 3), stride=(1, 1), padding=(1, 1), bias=False)\n",
       "      (bn1): BatchNorm2d(128, eps=1e-05, momentum=0.1, affine=True, track_running_stats=True)\n",
       "      (relu): ReLU(inplace=True)\n",
       "      (conv2): Conv2d(128, 128, kernel_size=(3, 3), stride=(1, 1), padding=(1, 1), bias=False)\n",
       "      (bn2): BatchNorm2d(128, eps=1e-05, momentum=0.1, affine=True, track_running_stats=True)\n",
       "    )\n",
       "  )\n",
       "  (layer3): Sequential(\n",
       "    (0): BasicBlock(\n",
       "      (conv1): Conv2d(128, 256, kernel_size=(3, 3), stride=(2, 2), padding=(1, 1), bias=False)\n",
       "      (bn1): BatchNorm2d(256, eps=1e-05, momentum=0.1, affine=True, track_running_stats=True)\n",
       "      (relu): ReLU(inplace=True)\n",
       "      (conv2): Conv2d(256, 256, kernel_size=(3, 3), stride=(1, 1), padding=(1, 1), bias=False)\n",
       "      (bn2): BatchNorm2d(256, eps=1e-05, momentum=0.1, affine=True, track_running_stats=True)\n",
       "      (downsample): Sequential(\n",
       "        (0): Conv2d(128, 256, kernel_size=(1, 1), stride=(2, 2), bias=False)\n",
       "        (1): BatchNorm2d(256, eps=1e-05, momentum=0.1, affine=True, track_running_stats=True)\n",
       "      )\n",
       "    )\n",
       "    (1): BasicBlock(\n",
       "      (conv1): Conv2d(256, 256, kernel_size=(3, 3), stride=(1, 1), padding=(1, 1), bias=False)\n",
       "      (bn1): BatchNorm2d(256, eps=1e-05, momentum=0.1, affine=True, track_running_stats=True)\n",
       "      (relu): ReLU(inplace=True)\n",
       "      (conv2): Conv2d(256, 256, kernel_size=(3, 3), stride=(1, 1), padding=(1, 1), bias=False)\n",
       "      (bn2): BatchNorm2d(256, eps=1e-05, momentum=0.1, affine=True, track_running_stats=True)\n",
       "    )\n",
       "    (2): BasicBlock(\n",
       "      (conv1): Conv2d(256, 256, kernel_size=(3, 3), stride=(1, 1), padding=(1, 1), bias=False)\n",
       "      (bn1): BatchNorm2d(256, eps=1e-05, momentum=0.1, affine=True, track_running_stats=True)\n",
       "      (relu): ReLU(inplace=True)\n",
       "      (conv2): Conv2d(256, 256, kernel_size=(3, 3), stride=(1, 1), padding=(1, 1), bias=False)\n",
       "      (bn2): BatchNorm2d(256, eps=1e-05, momentum=0.1, affine=True, track_running_stats=True)\n",
       "    )\n",
       "    (3): BasicBlock(\n",
       "      (conv1): Conv2d(256, 256, kernel_size=(3, 3), stride=(1, 1), padding=(1, 1), bias=False)\n",
       "      (bn1): BatchNorm2d(256, eps=1e-05, momentum=0.1, affine=True, track_running_stats=True)\n",
       "      (relu): ReLU(inplace=True)\n",
       "      (conv2): Conv2d(256, 256, kernel_size=(3, 3), stride=(1, 1), padding=(1, 1), bias=False)\n",
       "      (bn2): BatchNorm2d(256, eps=1e-05, momentum=0.1, affine=True, track_running_stats=True)\n",
       "    )\n",
       "    (4): BasicBlock(\n",
       "      (conv1): Conv2d(256, 256, kernel_size=(3, 3), stride=(1, 1), padding=(1, 1), bias=False)\n",
       "      (bn1): BatchNorm2d(256, eps=1e-05, momentum=0.1, affine=True, track_running_stats=True)\n",
       "      (relu): ReLU(inplace=True)\n",
       "      (conv2): Conv2d(256, 256, kernel_size=(3, 3), stride=(1, 1), padding=(1, 1), bias=False)\n",
       "      (bn2): BatchNorm2d(256, eps=1e-05, momentum=0.1, affine=True, track_running_stats=True)\n",
       "    )\n",
       "    (5): BasicBlock(\n",
       "      (conv1): Conv2d(256, 256, kernel_size=(3, 3), stride=(1, 1), padding=(1, 1), bias=False)\n",
       "      (bn1): BatchNorm2d(256, eps=1e-05, momentum=0.1, affine=True, track_running_stats=True)\n",
       "      (relu): ReLU(inplace=True)\n",
       "      (conv2): Conv2d(256, 256, kernel_size=(3, 3), stride=(1, 1), padding=(1, 1), bias=False)\n",
       "      (bn2): BatchNorm2d(256, eps=1e-05, momentum=0.1, affine=True, track_running_stats=True)\n",
       "    )\n",
       "  )\n",
       "  (layer4): Sequential(\n",
       "    (0): BasicBlock(\n",
       "      (conv1): Conv2d(256, 512, kernel_size=(3, 3), stride=(2, 2), padding=(1, 1), bias=False)\n",
       "      (bn1): BatchNorm2d(512, eps=1e-05, momentum=0.1, affine=True, track_running_stats=True)\n",
       "      (relu): ReLU(inplace=True)\n",
       "      (conv2): Conv2d(512, 512, kernel_size=(3, 3), stride=(1, 1), padding=(1, 1), bias=False)\n",
       "      (bn2): BatchNorm2d(512, eps=1e-05, momentum=0.1, affine=True, track_running_stats=True)\n",
       "      (downsample): Sequential(\n",
       "        (0): Conv2d(256, 512, kernel_size=(1, 1), stride=(2, 2), bias=False)\n",
       "        (1): BatchNorm2d(512, eps=1e-05, momentum=0.1, affine=True, track_running_stats=True)\n",
       "      )\n",
       "    )\n",
       "    (1): BasicBlock(\n",
       "      (conv1): Conv2d(512, 512, kernel_size=(3, 3), stride=(1, 1), padding=(1, 1), bias=False)\n",
       "      (bn1): BatchNorm2d(512, eps=1e-05, momentum=0.1, affine=True, track_running_stats=True)\n",
       "      (relu): ReLU(inplace=True)\n",
       "      (conv2): Conv2d(512, 512, kernel_size=(3, 3), stride=(1, 1), padding=(1, 1), bias=False)\n",
       "      (bn2): BatchNorm2d(512, eps=1e-05, momentum=0.1, affine=True, track_running_stats=True)\n",
       "    )\n",
       "    (2): BasicBlock(\n",
       "      (conv1): Conv2d(512, 512, kernel_size=(3, 3), stride=(1, 1), padding=(1, 1), bias=False)\n",
       "      (bn1): BatchNorm2d(512, eps=1e-05, momentum=0.1, affine=True, track_running_stats=True)\n",
       "      (relu): ReLU(inplace=True)\n",
       "      (conv2): Conv2d(512, 512, kernel_size=(3, 3), stride=(1, 1), padding=(1, 1), bias=False)\n",
       "      (bn2): BatchNorm2d(512, eps=1e-05, momentum=0.1, affine=True, track_running_stats=True)\n",
       "    )\n",
       "  )\n",
       "  (avgpool): AdaptiveAvgPool2d(output_size=(1, 1))\n",
       "  (fc): Linear(in_features=512, out_features=38, bias=True)\n",
       ")"
      ]
     },
     "execution_count": 10,
     "metadata": {},
     "output_type": "execute_result"
    }
   ],
   "source": [
    "model_name = 'resnet34'\n",
    "num_classes = 38\n",
    "resize = 224\n",
    "use_gpu = True\n",
    "\n",
    "main(model_name=model_name, num_classes=num_classes, num_epochs=30, resize=resize, batch_size=64, use_gpu=use_gpu)"
   ]
  },
  {
   "cell_type": "code",
   "execution_count": null,
   "metadata": {},
   "outputs": [
    {
     "name": "stdout",
     "output_type": "stream",
     "text": [
      "Model loaded from trained_model.pth\n"
     ]
    },
    {
     "name": "stderr",
     "output_type": "stream",
     "text": [
      "C:\\Users\\Akshat Nautiyal\\AppData\\Local\\Temp\\ipykernel_26180\\650591367.py:12: FutureWarning: You are using `torch.load` with `weights_only=False` (the current default value), which uses the default pickle module implicitly. It is possible to construct malicious pickle data which will execute arbitrary code during unpickling (See https://github.com/pytorch/pytorch/blob/main/SECURITY.md#untrusted-models for more details). In a future release, the default value for `weights_only` will be flipped to `True`. This limits the functions that could be executed during unpickling. Arbitrary objects will no longer be allowed to be loaded via this mode unless they are explicitly allowlisted by the user via `torch.serialization.add_safe_globals`. We recommend you start setting `weights_only=True` for any use case where you don't have full control of the loaded file. Please open an issue on GitHub for any issues related to this experimental feature.\n",
      "  model.load_state_dict(torch.load(model_path))  # Load the saved weights\n"
     ]
    }
   ],
   "source": [
    "import torch\n",
    "import torchvision\n",
    "\n",
    "device = torch.device(\"cuda\" if torch.cuda.is_available() else \"cpu\")\n",
    "model_name = 'resnet34'\n",
    "num_classes = 38\n",
    "model_path = \"trained_model.pth\"\n",
    "\n",
    "model, _ = load_defined_model(model_name, num_classes, device)\n",
    "model.load_state_dict(torch.load(model_path))  \n",
    "model.eval()  \n",
    "print(f\"Model loaded from {model_path}\")\n"
   ]
  },
  {
   "cell_type": "code",
   "execution_count": 13,
   "metadata": {},
   "outputs": [
    {
     "name": "stdout",
     "output_type": "stream",
     "text": [
      "Validation data loaded with 10861 samples and 38 classes.\n"
     ]
    }
   ],
   "source": [
    "from torchvision import transforms, datasets\n",
    "from torch.utils.data import DataLoader\n",
    "\n",
    "resize = 224\n",
    "val_split = 0.2\n",
    "\n",
    "# Load and transform the dataset\n",
    "_, val_loader = load_data(resize, val_split=val_split)\n",
    "class_names = val_loader.dataset.dataset.classes  # Get class names from the dataset\n",
    "print(f\"Validation data loaded with {len(val_loader.dataset)} samples and {len(class_names)} classes.\")\n"
   ]
  },
  {
   "cell_type": "code",
   "execution_count": 14,
   "metadata": {},
   "outputs": [
    {
     "name": "stdout",
     "output_type": "stream",
     "text": [
      "Evaluation completed.\n"
     ]
    }
   ],
   "source": [
    "from sklearn.metrics import confusion_matrix\n",
    "import numpy as np\n",
    "\n",
    "# Evaluate model and collect true and predicted labels\n",
    "true_labels, pred_labels = [], []\n",
    "\n",
    "with torch.no_grad():\n",
    "    for inputs, labels in val_loader:\n",
    "        inputs, labels = inputs.to(device), labels.to(device)\n",
    "        outputs = model(inputs)\n",
    "        _, predictions = torch.max(outputs, 1)\n",
    "        true_labels.extend(labels.cpu().numpy())\n",
    "        pred_labels.extend(predictions.cpu().numpy())\n",
    "\n",
    "print(\"Evaluation completed.\")"
   ]
  },
  {
   "cell_type": "code",
   "execution_count": 22,
   "metadata": {},
   "outputs": [
    {
     "name": "stderr",
     "output_type": "stream",
     "text": [
      "C:\\Users\\Akshat Nautiyal\\AppData\\Roaming\\Python\\Python312\\site-packages\\torchvision\\models\\_utils.py:208: UserWarning: The parameter 'pretrained' is deprecated since 0.13 and may be removed in the future, please use 'weights' instead.\n",
      "  warnings.warn(\n",
      "C:\\Users\\Akshat Nautiyal\\AppData\\Roaming\\Python\\Python312\\site-packages\\torchvision\\models\\_utils.py:223: UserWarning: Arguments other than a weight enum or `None` for 'weights' are deprecated since 0.13 and may be removed in the future. The current behavior is equivalent to passing `weights=ResNet34_Weights.IMAGENET1K_V1`. You can also use `weights=ResNet34_Weights.DEFAULT` to get the most up-to-date weights.\n",
      "  warnings.warn(msg)\n",
      "C:\\Users\\Akshat Nautiyal\\AppData\\Local\\Temp\\ipykernel_26180\\4033603599.py:47: FutureWarning: You are using `torch.load` with `weights_only=False` (the current default value), which uses the default pickle module implicitly. It is possible to construct malicious pickle data which will execute arbitrary code during unpickling (See https://github.com/pytorch/pytorch/blob/main/SECURITY.md#untrusted-models for more details). In a future release, the default value for `weights_only` will be flipped to `True`. This limits the functions that could be executed during unpickling. Arbitrary objects will no longer be allowed to be loaded via this mode unless they are explicitly allowlisted by the user via `torch.serialization.add_safe_globals`. We recommend you start setting `weights_only=True` for any use case where you don't have full control of the loaded file. Please open an issue on GitHub for any issues related to this experimental feature.\n",
      "  model.load_state_dict(torch.load(model_path))  # Load the saved weights\n"
     ]
    },
    {
     "name": "stdout",
     "output_type": "stream",
     "text": [
      "Model loaded from trained_model.pth\n",
      "Validation data loaded with 10861 samples.\n",
      "Evaluating on 10861 samples...\n",
      "Evaluation completed. Total samples evaluated: 10861\n",
      "Class 0:\n",
      "  True Positives (TP): 117\n",
      "  False Positives (FP): 0\n",
      "  False Negatives (FN): 0\n",
      "  True Negatives (TN): 10744\n",
      "----------------------------------------\n",
      "Class 1:\n",
      "  True Positives (TP): 120\n",
      "  False Positives (FP): 1\n",
      "  False Negatives (FN): 1\n",
      "  True Negatives (TN): 10739\n",
      "----------------------------------------\n",
      "Class 2:\n",
      "  True Positives (TP): 64\n",
      "  False Positives (FP): 1\n",
      "  False Negatives (FN): 1\n",
      "  True Negatives (TN): 10795\n",
      "----------------------------------------\n",
      "Class 3:\n",
      "  True Positives (TP): 298\n",
      "  False Positives (FP): 1\n",
      "  False Negatives (FN): 1\n",
      "  True Negatives (TN): 10561\n",
      "----------------------------------------\n",
      "Class 4:\n",
      "  True Positives (TP): 317\n",
      "  False Positives (FP): 2\n",
      "  False Negatives (FN): 0\n",
      "  True Negatives (TN): 10542\n",
      "----------------------------------------\n",
      "Class 5:\n",
      "  True Positives (TP): 201\n",
      "  False Positives (FP): 1\n",
      "  False Negatives (FN): 2\n",
      "  True Negatives (TN): 10657\n",
      "----------------------------------------\n",
      "Class 6:\n",
      "  True Positives (TP): 170\n",
      "  False Positives (FP): 2\n",
      "  False Negatives (FN): 0\n",
      "  True Negatives (TN): 10689\n",
      "----------------------------------------\n",
      "Class 7:\n",
      "  True Positives (TP): 91\n",
      "  False Positives (FP): 2\n",
      "  False Negatives (FN): 4\n",
      "  True Negatives (TN): 10764\n",
      "----------------------------------------\n",
      "Class 8:\n",
      "  True Positives (TP): 247\n",
      "  False Positives (FP): 3\n",
      "  False Negatives (FN): 5\n",
      "  True Negatives (TN): 10606\n",
      "----------------------------------------\n",
      "Class 9:\n",
      "  True Positives (TP): 219\n",
      "  False Positives (FP): 8\n",
      "  False Negatives (FN): 4\n",
      "  True Negatives (TN): 10630\n",
      "----------------------------------------\n",
      "Class 10:\n",
      "  True Positives (TP): 227\n",
      "  False Positives (FP): 0\n",
      "  False Negatives (FN): 1\n",
      "  True Negatives (TN): 10633\n",
      "----------------------------------------\n",
      "Class 11:\n",
      "  True Positives (TP): 243\n",
      "  False Positives (FP): 0\n",
      "  False Negatives (FN): 4\n",
      "  True Negatives (TN): 10614\n",
      "----------------------------------------\n",
      "Class 12:\n",
      "  True Positives (TP): 278\n",
      "  False Positives (FP): 5\n",
      "  False Negatives (FN): 0\n",
      "  True Negatives (TN): 10578\n",
      "----------------------------------------\n",
      "Class 13:\n",
      "  True Positives (TP): 203\n",
      "  False Positives (FP): 0\n",
      "  False Negatives (FN): 0\n",
      "  True Negatives (TN): 10658\n",
      "----------------------------------------\n",
      "Class 14:\n",
      "  True Positives (TP): 82\n",
      "  False Positives (FP): 0\n",
      "  False Negatives (FN): 0\n",
      "  True Negatives (TN): 10779\n",
      "----------------------------------------\n",
      "Class 15:\n",
      "  True Positives (TP): 1090\n",
      "  False Positives (FP): 3\n",
      "  False Negatives (FN): 0\n",
      "  True Negatives (TN): 9768\n",
      "----------------------------------------\n",
      "Class 16:\n",
      "  True Positives (TP): 463\n",
      "  False Positives (FP): 3\n",
      "  False Negatives (FN): 4\n",
      "  True Negatives (TN): 10391\n",
      "----------------------------------------\n",
      "Class 17:\n",
      "  True Positives (TP): 81\n",
      "  False Positives (FP): 1\n",
      "  False Negatives (FN): 0\n",
      "  True Negatives (TN): 10779\n",
      "----------------------------------------\n",
      "Class 18:\n",
      "  True Positives (TP): 192\n",
      "  False Positives (FP): 0\n",
      "  False Negatives (FN): 7\n",
      "  True Negatives (TN): 10662\n",
      "----------------------------------------\n",
      "Class 19:\n",
      "  True Positives (TP): 306\n",
      "  False Positives (FP): 3\n",
      "  False Negatives (FN): 2\n",
      "  True Negatives (TN): 10550\n",
      "----------------------------------------\n",
      "Class 20:\n",
      "  True Positives (TP): 212\n",
      "  False Positives (FP): 2\n",
      "  False Negatives (FN): 1\n",
      "  True Negatives (TN): 10646\n",
      "----------------------------------------\n",
      "Class 21:\n",
      "  True Positives (TP): 188\n",
      "  False Positives (FP): 4\n",
      "  False Negatives (FN): 2\n",
      "  True Negatives (TN): 10667\n",
      "----------------------------------------\n",
      "Class 22:\n",
      "  True Positives (TP): 27\n",
      "  False Positives (FP): 0\n",
      "  False Negatives (FN): 0\n",
      "  True Negatives (TN): 10834\n",
      "----------------------------------------\n",
      "Class 23:\n",
      "  True Positives (TP): 76\n",
      "  False Positives (FP): 0\n",
      "  False Negatives (FN): 2\n",
      "  True Negatives (TN): 10783\n",
      "----------------------------------------\n",
      "Class 24:\n",
      "  True Positives (TP): 1028\n",
      "  False Positives (FP): 1\n",
      "  False Negatives (FN): 0\n",
      "  True Negatives (TN): 9832\n",
      "----------------------------------------\n",
      "Class 25:\n",
      "  True Positives (TP): 348\n",
      "  False Positives (FP): 1\n",
      "  False Negatives (FN): 0\n",
      "  True Negatives (TN): 10512\n",
      "----------------------------------------\n",
      "Class 26:\n",
      "  True Positives (TP): 218\n",
      "  False Positives (FP): 1\n",
      "  False Negatives (FN): 1\n",
      "  True Negatives (TN): 10641\n",
      "----------------------------------------\n",
      "Class 27:\n",
      "  True Positives (TP): 97\n",
      "  False Positives (FP): 2\n",
      "  False Negatives (FN): 1\n",
      "  True Negatives (TN): 10761\n",
      "----------------------------------------\n",
      "Class 28:\n",
      "  True Positives (TP): 420\n",
      "  False Positives (FP): 1\n",
      "  False Negatives (FN): 2\n",
      "  True Negatives (TN): 10438\n",
      "----------------------------------------\n",
      "Class 29:\n",
      "  True Positives (TP): 193\n",
      "  False Positives (FP): 9\n",
      "  False Negatives (FN): 3\n",
      "  True Negatives (TN): 10656\n",
      "----------------------------------------\n",
      "Class 30:\n",
      "  True Positives (TP): 371\n",
      "  False Positives (FP): 0\n",
      "  False Negatives (FN): 10\n",
      "  True Negatives (TN): 10480\n",
      "----------------------------------------\n",
      "Class 31:\n",
      "  True Positives (TP): 176\n",
      "  False Positives (FP): 1\n",
      "  False Negatives (FN): 1\n",
      "  True Negatives (TN): 10683\n",
      "----------------------------------------\n",
      "Class 32:\n",
      "  True Positives (TP): 351\n",
      "  False Positives (FP): 6\n",
      "  False Negatives (FN): 4\n",
      "  True Negatives (TN): 10500\n",
      "----------------------------------------\n",
      "Class 33:\n",
      "  True Positives (TP): 330\n",
      "  False Positives (FP): 7\n",
      "  False Negatives (FN): 2\n",
      "  True Negatives (TN): 10522\n",
      "----------------------------------------\n",
      "Class 34:\n",
      "  True Positives (TP): 251\n",
      "  False Positives (FP): 3\n",
      "  False Negatives (FN): 11\n",
      "  True Negatives (TN): 10596\n",
      "----------------------------------------\n",
      "Class 35:\n",
      "  True Positives (TP): 1087\n",
      "  False Positives (FP): 1\n",
      "  False Negatives (FN): 1\n",
      "  True Negatives (TN): 9772\n",
      "----------------------------------------\n",
      "Class 36:\n",
      "  True Positives (TP): 76\n",
      "  False Positives (FP): 1\n",
      "  False Negatives (FN): 1\n",
      "  True Negatives (TN): 10783\n",
      "----------------------------------------\n",
      "Class 37:\n",
      "  True Positives (TP): 324\n",
      "  False Positives (FP): 3\n",
      "  False Negatives (FN): 1\n",
      "  True Negatives (TN): 10533\n",
      "----------------------------------------\n"
     ]
    },
    {
     "data": {
      "image/png": "[encoded data removed]",
      "text/plain": [
       "<Figure size 600x400 with 2 Axes>"
      ]
     },
     "metadata": {},
     "output_type": "display_data"
    }
   ],
   "source": [
    "import torch\n",
    "import torchvision\n",
    "from torchvision import transforms, datasets\n",
    "from torch.utils.data import DataLoader\n",
    "from sklearn.metrics import confusion_matrix\n",
    "import seaborn as sns\n",
    "import matplotlib.pyplot as plt\n",
    "import numpy as np\n",
    "\n",
    "# Load the model definition function\n",
    "def load_defined_model(model_name, num_classes, device):\n",
    "    if model_name == 'resnet34':\n",
    "        model = torchvision.models.resnet34(pretrained=True)\n",
    "        model.fc = torch.nn.Linear(model.fc.in_features, num_classes)\n",
    "    else:\n",
    "        raise NotImplementedError(\"Model not implemented\")\n",
    "    model = model.to(device)\n",
    "    return model, None\n",
    "\n",
    "# Load data function\n",
    "def load_data(resize, val_split=0.2):\n",
    "    data_transforms = transforms.Compose([\n",
    "        transforms.RandomResizedCrop(resize),\n",
    "        transforms.RandomHorizontalFlip(),\n",
    "        transforms.ToTensor(),\n",
    "        transforms.Normalize([0.485, 0.456, 0.406], [0.229, 0.224, 0.225])\n",
    "    ])\n",
    "    data_dir = './plantvillage dataset/color'  # Replace with your data directory\n",
    "    full_dataset = datasets.ImageFolder(data_dir, transform=data_transforms)\n",
    "    \n",
    "    val_size = int(len(full_dataset) * val_split)\n",
    "    train_size = len(full_dataset) - val_size\n",
    "    train_dataset, val_dataset = torch.utils.data.random_split(full_dataset, [train_size, val_size])\n",
    "\n",
    "    trainloader = DataLoader(train_dataset, batch_size=64, shuffle=True, num_workers=4)\n",
    "    valloader = DataLoader(val_dataset, batch_size=64, shuffle=False, num_workers=4)\n",
    "    return trainloader, valloader\n",
    "\n",
    "# Load the saved model's state dictionary\n",
    "device = torch.device(\"cuda\" if torch.cuda.is_available() else \"cpu\")\n",
    "model_name = 'resnet34'\n",
    "num_classes = 38\n",
    "model_path = \"trained_model.pth\"\n",
    "\n",
    "# Define and load the model\n",
    "model, _ = load_defined_model(model_name, num_classes, device)\n",
    "model.load_state_dict(torch.load(model_path))  # Load the saved weights\n",
    "model.eval()  # Set model to evaluation mode\n",
    "print(f\"Model loaded from {model_path}\")\n",
    "\n",
    "# Load and transform the dataset\n",
    "resize = 224\n",
    "val_split = 0.2\n",
    "_, val_loader = load_data(resize, val_split=val_split)\n",
    "print(f\"Validation data loaded with {len(val_loader.dataset)} samples.\")\n",
    "\n",
    "# Evaluate model and collect true and predicted labels\n",
    "true_labels, pred_labels = [], []\n",
    "\n",
    "print(f\"Evaluating on {len(val_loader.dataset)} samples...\")\n",
    "with torch.no_grad():\n",
    "    for inputs, labels in val_loader:\n",
    "        inputs, labels = inputs.to(device), labels.to(device)\n",
    "        outputs = model(inputs)\n",
    "        _, predictions = torch.max(outputs, 1)\n",
    "        true_labels.extend(labels.cpu().numpy())\n",
    "        pred_labels.extend(predictions.cpu().numpy())\n",
    "\n",
    "print(f\"Evaluation completed. Total samples evaluated: {len(true_labels)}\")\n",
    "\n",
    "# Compute the confusion matrix\n",
    "cm = confusion_matrix(true_labels, pred_labels)\n",
    "\n",
    "# For multiclass classification: Extract TP, FP, FN, TN for each class\n",
    "TP = np.diagonal(cm)  # True Positives for each class (diagonal elements)\n",
    "FP = cm.sum(axis=0) - TP  # False Positives for each class\n",
    "FN = cm.sum(axis=1) - TP  # False Negatives for each class\n",
    "TN = cm.sum() - (FP + FN + TP)  # True Negatives for each class\n",
    "\n",
    "# Print TP, TN, FP, FN for each class\n",
    "for i in range(num_classes):\n",
    "    print(f\"Class {i}:\")\n",
    "    print(f\"  True Positives (TP): {TP[i]}\")\n",
    "    print(f\"  False Positives (FP): {FP[i]}\")\n",
    "    print(f\"  False Negatives (FN): {FN[i]}\")\n",
    "    print(f\"  True Negatives (TN): {TN[i]}\")\n",
    "    print('-' * 40)\n",
    "\n",
    "# Create a matrix for TP, FP, FN, TN across all classes (sum)\n",
    "detailed_cm = np.array([[TP.sum(), FP.sum()], [FN.sum(), TN.sum()]])\n",
    "\n",
    "# Plot the confusion matrix as a heatmap without class labels\n",
    "plt.figure(figsize=(6, 4))\n",
    "sns.heatmap(\n",
    "    detailed_cm,\n",
    "    annot=True,\n",
    "    fmt='d',\n",
    "    cmap='Blues',\n",
    "    xticklabels=['Predicted Positive', 'Predicted Negative'],\n",
    "    yticklabels=['Actual Positive', 'Actual Negative']\n",
    ")\n",
    "plt.title('Confusion Matrix with TP, FP, FN, TN')\n",
    "plt.xlabel('Predicted Labels')\n",
    "plt.ylabel('True Labels')\n",
    "plt.show()\n"
   ]
  }
 ],
 "metadata": {
  "kernelspec": {
   "display_name": "Python 3",
   "language": "python",
   "name": "python3"
  },
  "language_info": {
   "codemirror_mode": {
    "name": "ipython",
    "version": 3
   },
   "file_extension": ".py",
   "mimetype": "text/x-python",
   "name": "python",
   "nbconvert_exporter": "python",
   "pygments_lexer": "ipython3",
   "version": "3.12.6"
  }
 },
 "nbformat": 4,
 "nbformat_minor": 2
}
