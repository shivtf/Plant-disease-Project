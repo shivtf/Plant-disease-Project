{
 "cells": [
  {
   "cell_type": "code",
   "execution_count": 8,
   "metadata": {},
   "outputs": [],
   "source": [
    "from PIL import Image\n",
    "import torch\n",
    "import torch.nn as nn\n",
    "from torchvision import models, transforms\n",
    "import json\n",
    "import warnings"
   ]
  },
  {
   "cell_type": "code",
   "execution_count": 20,
   "metadata": {},
   "outputs": [
    {
     "name": "stdout",
     "output_type": "stream",
     "text": [
      "Detected Plant Disease ➡️\n",
      "Plant Name: Apple\n",
      "Disease Name: Black rot\n"
     ]
    }
   ],
   "source": [
    "warnings.filterwarnings(\"ignore\")\n",
    "\n",
    "num_classes = 38\n",
    "model = models.resnet34(pretrained=False)\n",
    "model.fc = nn.Linear(model.fc.in_features, num_classes)\n",
    "model.load_state_dict(torch.load('./model/resnet34_plant_disease.pth', weights_only=True))\n",
    "model.eval()\n",
    "\n",
    "with open(\"class_names.json\", \"r\") as f:\n",
    "    class_names = json.load(f)\n",
    "\n",
    "transform = transforms.Compose([\n",
    "    transforms.Resize(256),\n",
    "    transforms.CenterCrop(224),\n",
    "    transforms.ToTensor(),\n",
    "    transforms.Normalize([0.485, 0.456, 0.406], [0.229, 0.224, 0.225])\n",
    "])\n",
    "\n",
    "def detect_disease(image_path):\n",
    "    image = Image.open(image_path).convert('RGB')\n",
    "    image = transform(image).unsqueeze(0)\n",
    "\n",
    "    with torch.no_grad():\n",
    "        output = model(image)\n",
    "        _, predicted = torch.max(output, 1)\n",
    "        plant_disease = class_names[predicted.item()]\n",
    "\n",
    "    if \"___\" in plant_disease:\n",
    "        plant, disease = plant_disease.split(\"___\")\n",
    "        plant = plant.replace(\"_\", \" \").split(\" (\")[0]\n",
    "        disease = disease.replace(\"_\", \" \")\n",
    "        if \"healthy\" in disease.lower():\n",
    "            return f'{plant} and it is healthy.\\n'\n",
    "        else:\n",
    "            return f'Plant Name: {plant}\\nDisease Name: {disease}'\n",
    "    else:\n",
    "        return f\"Plant: {plant_disease}\"\n",
    "\n",
    "user_image_path = './fdf.webp'\n",
    "detected_disease = detect_disease(user_image_path)\n",
    "print(f\"Detected Plant Disease ➡️\\n{detected_disease}\")"
   ]
  }
 ],
 "metadata": {
  "kernelspec": {
   "display_name": "Python 3",
   "language": "python",
   "name": "python3"
  },
  "language_info": {
   "codemirror_mode": {
    "name": "ipython",
    "version": 3
   },
   "file_extension": ".py",
   "mimetype": "text/x-python",
   "name": "python",
   "nbconvert_exporter": "python",
   "pygments_lexer": "ipython3",
   "version": "3.12.6"
  }
 },
 "nbformat": 4,
 "nbformat_minor": 2
}
