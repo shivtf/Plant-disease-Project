{
 "cells": [
  {
   "cell_type": "code",
   "execution_count": 2,
   "metadata": {},
   "outputs": [],
   "source": [
    "import os\n",
    "import torch\n",
    "import torch.nn as nn\n",
    "import torch.optim as optim\n",
    "from torchvision import datasets, models, transforms\n",
    "from torch.utils.data import DataLoader\n",
    "from sklearn.model_selection import train_test_split"
   ]
  },
  {
   "cell_type": "code",
   "execution_count": null,
   "metadata": {},
   "outputs": [],
   "source": [
    "data_dir = './plantvillage dataset/color'\n",
    "num_classes = 38\n",
    "batch_size = 32\n",
    "num_epochs = 40\n",
    "model_path = './model/resnet34_plant_disease.pth' \n",
    "\n",
    "device = torch.device(\"cuda\" if torch.cuda.is_available() else \"cpu\")\n",
    "\n",
    "data_transforms = {\n",
    "    'train': transforms.Compose([\n",
    "        transforms.RandomResizedCrop(224),\n",
    "        transforms.RandomHorizontalFlip(),\n",
    "        transforms.ToTensor(),\n",
    "        transforms.Normalize([0.485, 0.456, 0.406], [0.229, 0.224, 0.225])\n",
    "    ]),\n",
    "    'test': transforms.Compose([\n",
    "        transforms.Resize(256),\n",
    "        transforms.CenterCrop(224),\n",
    "        transforms.ToTensor(),\n",
    "        transforms.Normalize([0.485, 0.456, 0.406], [0.229, 0.224, 0.225])\n",
    "    ]),\n",
    "}"
   ]
  },
  {
   "cell_type": "code",
   "execution_count": 4,
   "metadata": {},
   "outputs": [
    {
     "name": "stderr",
     "output_type": "stream",
     "text": [
      "C:\\Users\\Akshat Nautiyal\\AppData\\Roaming\\Python\\Python312\\site-packages\\torchvision\\models\\_utils.py:208: UserWarning: The parameter 'pretrained' is deprecated since 0.13 and may be removed in the future, please use 'weights' instead.\n",
      "  warnings.warn(\n",
      "C:\\Users\\Akshat Nautiyal\\AppData\\Roaming\\Python\\Python312\\site-packages\\torchvision\\models\\_utils.py:223: UserWarning: Arguments other than a weight enum or `None` for 'weights' are deprecated since 0.13 and may be removed in the future. The current behavior is equivalent to passing `weights=ResNet34_Weights.IMAGENET1K_V1`. You can also use `weights=ResNet34_Weights.DEFAULT` to get the most up-to-date weights.\n",
      "  warnings.warn(msg)\n"
     ]
    }
   ],
   "source": [
    "dataset = datasets.ImageFolder(data_dir, transform=data_transforms['train'])\n",
    "train_data, test_data = train_test_split(dataset, test_size=0.2, random_state=42)\n",
    "train_loader = DataLoader(train_data, batch_size=batch_size, shuffle=True)\n",
    "test_loader = DataLoader(test_data, batch_size=batch_size, shuffle=False)\n",
    "\n",
    "model = models.resnet34(pretrained=True)\n",
    "model.fc = nn.Linear(model.fc.in_features, num_classes)\n",
    "\n",
    "model = model.to(device)\n",
    "\n",
    "criterion = nn.CrossEntropyLoss()\n",
    "optimizer = optim.Adam(model.parameters(), lr=0.001)"
   ]
  },
  {
   "cell_type": "code",
   "execution_count": null,
   "metadata": {},
   "outputs": [
    {
     "name": "stdout",
     "output_type": "stream",
     "text": [
      "Epoch [1/10], Loss: 0.6867\n",
      "Epoch [2/10], Loss: 0.2981\n",
      "Epoch [3/10], Loss: 0.2243\n",
      "Epoch [4/10], Loss: 0.1801\n",
      "Epoch [5/10], Loss: 0.1482\n",
      "Epoch [6/10], Loss: 0.1222\n",
      "Epoch [7/10], Loss: 0.1039\n",
      "Epoch [8/10], Loss: 0.0938\n",
      "Epoch [9/10], Loss: 0.0770\n",
      "Epoch [10/10], Loss: 0.0651\n",
      "Model saved to ./model/resnet34_plant_disease.pth\n"
     ]
    }
   ],
   "source": [
    "for epoch in range(num_epochs):\n",
    "    model.train()\n",
    "    running_loss = 0.0\n",
    "    for images, labels in train_loader:\n",
    "        images, labels = images.to(device), labels.to(device)\n",
    "        \n",
    "        optimizer.zero_grad()\n",
    "        \n",
    "        outputs = model(images)\n",
    "        loss = criterion(outputs, labels)\n",
    "        \n",
    "        loss.backward()\n",
    "        optimizer.step()\n",
    "        \n",
    "        running_loss += loss.item()\n",
    "    print(f'Epoch [{epoch+1}/{num_epochs}], Loss: {running_loss/len(train_loader):.4f}')\n",
    "\n",
    "torch.save(model.state_dict(), model_path)\n",
    "print(\"Model saved to\", model_path)\n"
   ]
  },
  {
   "cell_type": "code",
   "execution_count": null,
   "metadata": {},
   "outputs": [
    {
     "name": "stdout",
     "output_type": "stream",
     "text": [
      "Accuracy: 0.9424\n",
      "F1 Score: 0.9429\n",
      "Precision: 0.9471\n",
      "Recall: 0.9424\n"
     ]
    }
   ],
   "source": [
    "import torch\n",
    "from sklearn.metrics import accuracy_score, f1_score, precision_score, recall_score\n",
    "\n",
    "model.eval()\n",
    "\n",
    "all_preds = []\n",
    "all_labels = []\n",
    "\n",
    "with torch.no_grad():\n",
    "    for images, labels in test_loader:\n",
    "        images, labels = images.to(device), labels.to(device)\n",
    "        outputs = model(images)\n",
    "        _, preds = torch.max(outputs, 1)\n",
    "        \n",
    "        all_preds.extend(preds.cpu().numpy())\n",
    "        all_labels.extend(labels.cpu().numpy())\n",
    "\n",
    "\n",
    "accuracy = accuracy_score(all_labels, all_preds)\n",
    "f1 = f1_score(all_labels, all_preds, average='weighted')\n",
    "precision = precision_score(all_labels, all_preds, average='weighted')\n",
    "recall = recall_score(all_labels, all_preds, average='weighted')\n",
    "\n",
    "print(f\"Accuracy: {accuracy:.4f}\")\n",
    "print(f\"F1 Score: {f1:.4f}\")\n",
    "print(f\"Precision: {precision:.4f}\")\n",
    "print(f\"Recall: {recall:.4f}\")"
   ]
  },
  {
   "cell_type": "code",
   "execution_count": null,
   "metadata": {},
   "outputs": [
    {
     "name": "stdout",
     "output_type": "stream",
     "text": [
      "Classification Report:\n",
      "                                                     precision    recall  f1-score   support\n",
      "\n",
      "                                Apple___Apple_scab       0.86      0.93      0.90       134\n",
      "                                 Apple___Black_rot       0.97      0.87      0.92       127\n",
      "                          Apple___Cedar_apple_rust       1.00      0.94      0.97        51\n",
      "                                   Apple___healthy       0.93      0.96      0.94       340\n",
      "                               Blueberry___healthy       0.92      0.99      0.96       306\n",
      "          Cherry_(including_sour)___Powdery_mildew       1.00      0.95      0.98       210\n",
      "                 Cherry_(including_sour)___healthy       0.99      0.97      0.98       195\n",
      "Corn_(maize)___Cercospora_leaf_spot Gray_leaf_spot       0.90      0.79      0.84       105\n",
      "                       Corn_(maize)___Common_rust_       0.95      0.97      0.96       239\n",
      "               Corn_(maize)___Northern_Leaf_Blight       0.86      0.92      0.89       218\n",
      "                            Corn_(maize)___healthy       1.00      0.98      0.99       216\n",
      "                                 Grape___Black_rot       0.95      0.96      0.95       239\n",
      "                      Grape___Esca_(Black_Measles)       0.99      0.99      0.99       272\n",
      "        Grape___Leaf_blight_(Isariopsis_Leaf_Spot)       0.98      0.95      0.97       214\n",
      "                                   Grape___healthy       0.94      0.99      0.96        75\n",
      "          Orange___Haunglongbing_(Citrus_greening)       0.99      0.98      0.98      1104\n",
      "                            Peach___Bacterial_spot       0.98      0.94      0.96       451\n",
      "                                   Peach___healthy       0.84      1.00      0.91        62\n",
      "                     Pepper,_bell___Bacterial_spot       0.69      0.99      0.82       198\n",
      "                            Pepper,_bell___healthy       0.94      0.95      0.94       279\n",
      "                             Potato___Early_blight       0.90      0.98      0.94       194\n",
      "                              Potato___Late_blight       0.96      0.90      0.93       206\n",
      "                                  Potato___healthy       1.00      0.60      0.75        25\n",
      "                               Raspberry___healthy       1.00      0.72      0.83        74\n",
      "                                 Soybean___healthy       0.99      0.95      0.97      1031\n",
      "                           Squash___Powdery_mildew       0.90      0.99      0.95       393\n",
      "                          Strawberry___Leaf_scorch       0.98      0.95      0.96       230\n",
      "                              Strawberry___healthy       0.76      0.96      0.85        81\n",
      "                           Tomato___Bacterial_spot       0.94      0.94      0.94       422\n",
      "                             Tomato___Early_blight       0.93      0.77      0.84       213\n",
      "                              Tomato___Late_blight       0.93      0.93      0.93       377\n",
      "                                Tomato___Leaf_Mold       0.97      0.89      0.93       188\n",
      "                       Tomato___Septoria_leaf_spot       0.98      0.82      0.89       337\n",
      "     Tomato___Spider_mites Two-spotted_spider_mite       0.93      0.88      0.91       338\n",
      "                              Tomato___Target_Spot       0.77      0.89      0.83       288\n",
      "            Tomato___Tomato_Yellow_Leaf_Curl_Virus       0.98      0.96      0.97      1028\n",
      "                      Tomato___Tomato_mosaic_virus       0.99      0.93      0.96        84\n",
      "                                  Tomato___healthy       0.90      0.99      0.94       317\n",
      "\n",
      "                                          accuracy                           0.94     10861\n",
      "                                         macro avg       0.93      0.92      0.92     10861\n",
      "                                      weighted avg       0.95      0.94      0.94     10861\n",
      "\n"
     ]
    }
   ],
   "source": [
    "from sklearn.metrics import classification_report\n",
    "\n",
    "report = classification_report(all_labels, all_preds, target_names=dataset.classes)\n",
    "print(\"Classification Report:\\n\", report)"
   ]
  },
  {
   "cell_type": "code",
   "execution_count": null,
   "metadata": {},
   "outputs": [
    {
     "data": {
      "image/png": "[encoded data removed]",
      "text/plain": [
       "<Figure size 600x500 with 2 Axes>"
      ]
     },
     "metadata": {},
     "output_type": "display_data"
    }
   ],
   "source": [
    "import seaborn as sns\n",
    "import matplotlib.pyplot as plt\n",
    "from sklearn.metrics import confusion_matrix\n",
    "\n",
    "correct_predictions = sum(1 for true, pred in zip(all_labels, all_preds) if true == pred)\n",
    "incorrect_predictions = len(all_labels) - correct_predictions\n",
    "\n",
    "true_positive = correct_predictions\n",
    "false_negative = incorrect_predictions\n",
    "false_positive = incorrect_predictions\n",
    "true_negative = correct_predictions\n",
    "\n",
    "simplified_conf_matrix = [\n",
    "    [true_positive, false_negative], \n",
    "    [false_positive, true_negative]\n",
    "]\n",
    "\n",
    "plt.figure(figsize=(5, 5))\n",
    "sns.heatmap(simplified_conf_matrix, annot=True, fmt=\"d\", cmap=\"Blues\", \n",
    "            xticklabels=[\"Predicted Positive\", \"Predicted Negative\"], \n",
    "            yticklabels=[\"Actual Positive\", \"Actual Negative\"])\n",
    "plt.xlabel(\"Predicted Labels\")\n",
    "plt.ylabel(\"True Labels\")\n",
    "plt.title(\"Confusion Matrix of ResNet34\")\n",
    "plt.show()\n"
   ]
  },
  {
   "cell_type": "code",
   "execution_count": 9,
   "metadata": {},
   "outputs": [],
   "source": [
    "from PIL import Image\n",
    "import torch\n",
    "import torch.nn as nn\n",
    "from torchvision import models, transforms"
   ]
  },
  {
   "cell_type": "code",
   "execution_count": 10,
   "metadata": {},
   "outputs": [
    {
     "name": "stdout",
     "output_type": "stream",
     "text": [
      "Detected Plant Disease: Corn_(maize)___Cercospora_leaf_spot Gray_leaf_spot\n"
     ]
    },
    {
     "name": "stderr",
     "output_type": "stream",
     "text": [
      "C:\\Users\\Akshat Nautiyal\\AppData\\Local\\Temp\\ipykernel_16708\\2689023194.py:4: FutureWarning: You are using `torch.load` with `weights_only=False` (the current default value), which uses the default pickle module implicitly. It is possible to construct malicious pickle data which will execute arbitrary code during unpickling (See https://github.com/pytorch/pytorch/blob/main/SECURITY.md#untrusted-models for more details). In a future release, the default value for `weights_only` will be flipped to `True`. This limits the functions that could be executed during unpickling. Arbitrary objects will no longer be allowed to be loaded via this mode unless they are explicitly allowlisted by the user via `torch.serialization.add_safe_globals`. We recommend you start setting `weights_only=True` for any use case where you don't have full control of the loaded file. Please open an issue on GitHub for any issues related to this experimental feature.\n",
      "  model.load_state_dict(torch.load('./model/resnet34_plant_disease.pth'))\n"
     ]
    }
   ],
   "source": [
    "num_classes = 38  \n",
    "model = models.resnet34(pretrained=False)\n",
    "model.fc = nn.Linear(model.fc.in_features, num_classes)\n",
    "model.load_state_dict(torch.load('./model/resnet34_plant_disease.pth'))\n",
    "model.eval()\n",
    "\n",
    "class_names = dataset.classes\n",
    "\n",
    "transform = transforms.Compose([\n",
    "    transforms.Resize(256),\n",
    "    transforms.CenterCrop(224),\n",
    "    transforms.ToTensor(),\n",
    "    transforms.Normalize([0.485, 0.456, 0.406], [0.229, 0.224, 0.225])\n",
    "])\n",
    "\n",
    "def detect_disease(image_path):\n",
    "    image = Image.open(image_path).convert('RGB')\n",
    "    image = transform(image).unsqueeze(0)  \n",
    "    \n",
    "    with torch.no_grad():  \n",
    "        output = model(image)\n",
    "        _, predicted = torch.max(output, 1)\n",
    "        plant_disease = class_names[predicted.item()]\n",
    "    return plant_disease\n",
    "\n",
    "user_image_path = './fien.JPG'\n",
    "detected_disease = detect_disease(user_image_path)\n",
    "print(f\"Detected Plant Disease: {detected_disease}\")\n"
   ]
  },
  {
   "cell_type": "code",
   "execution_count": null,
   "metadata": {},
   "outputs": [],
   "source": [
    "# import json\n",
    "\n",
    "# class_names = dataset.classes\n",
    "\n",
    "# with open(\"class_names.json\", \"w\") as f:\n",
    "#     json.dump(class_names, f)"
   ]
  },
  {
   "cell_type": "code",
   "execution_count": null,
   "metadata": {},
   "outputs": [],
   "source": []
  }
 ],
 "metadata": {
  "kernelspec": {
   "display_name": "Python 3",
   "language": "python",
   "name": "python3"
  },
  "language_info": {
   "codemirror_mode": {
    "name": "ipython",
    "version": 3
   },
   "file_extension": ".py",
   "mimetype": "text/x-python",
   "name": "python",
   "nbconvert_exporter": "python",
   "pygments_lexer": "ipython3",
   "version": "3.12.6"
  }
 },
 "nbformat": 4,
 "nbformat_minor": 2
}
